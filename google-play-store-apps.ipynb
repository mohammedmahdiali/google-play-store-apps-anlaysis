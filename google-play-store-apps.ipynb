{
 "cells": [
  {
   "cell_type": "markdown",
   "id": "0d0e3701",
   "metadata": {},
   "source": [
    "# Google Play Store Apps\n",
    "\n",
    "Web scraped data of 10k Play Store apps for analysing the Android market.\n",
    "\n",
    "Dataset: https://www.kaggle.com/lava18/google-play-store-apps\n",
    "\n",
    "Author: https://github.com/mohammedmahdiali"
   ]
  },
  {
   "cell_type": "code",
   "execution_count": 1,
   "id": "d9da8986",
   "metadata": {},
   "outputs": [],
   "source": [
    "import numpy as np\n",
    "import pandas as pd\n",
    "import seaborn as sns\n",
    "import matplotlib.pyplot as plt\n",
    "\n",
    "%matplotlib inline"
   ]
  },
  {
   "cell_type": "markdown",
   "id": "3033951b",
   "metadata": {},
   "source": [
    "#### Let's read the data"
   ]
  },
  {
   "cell_type": "code",
   "execution_count": 2,
   "id": "40507e53",
   "metadata": {},
   "outputs": [
    {
     "data": {
      "text/html": [
       "<div>\n",
       "<style scoped>\n",
       "    .dataframe tbody tr th:only-of-type {\n",
       "        vertical-align: middle;\n",
       "    }\n",
       "\n",
       "    .dataframe tbody tr th {\n",
       "        vertical-align: top;\n",
       "    }\n",
       "\n",
       "    .dataframe thead th {\n",
       "        text-align: right;\n",
       "    }\n",
       "</style>\n",
       "<table border=\"1\" class=\"dataframe\">\n",
       "  <thead>\n",
       "    <tr style=\"text-align: right;\">\n",
       "      <th></th>\n",
       "      <th>App</th>\n",
       "      <th>Category</th>\n",
       "      <th>Rating</th>\n",
       "      <th>Reviews</th>\n",
       "      <th>Size</th>\n",
       "      <th>Installs</th>\n",
       "      <th>Type</th>\n",
       "      <th>Price</th>\n",
       "      <th>Content Rating</th>\n",
       "      <th>Genres</th>\n",
       "      <th>Last Updated</th>\n",
       "      <th>Current Ver</th>\n",
       "      <th>Android Ver</th>\n",
       "    </tr>\n",
       "  </thead>\n",
       "  <tbody>\n",
       "    <tr>\n",
       "      <th>0</th>\n",
       "      <td>Photo Editor &amp; Candy Camera &amp; Grid &amp; ScrapBook</td>\n",
       "      <td>ART_AND_DESIGN</td>\n",
       "      <td>4.1</td>\n",
       "      <td>159</td>\n",
       "      <td>19M</td>\n",
       "      <td>10,000+</td>\n",
       "      <td>Free</td>\n",
       "      <td>0</td>\n",
       "      <td>Everyone</td>\n",
       "      <td>Art &amp; Design</td>\n",
       "      <td>January 7, 2018</td>\n",
       "      <td>1.0.0</td>\n",
       "      <td>4.0.3 and up</td>\n",
       "    </tr>\n",
       "    <tr>\n",
       "      <th>1</th>\n",
       "      <td>Coloring book moana</td>\n",
       "      <td>ART_AND_DESIGN</td>\n",
       "      <td>3.9</td>\n",
       "      <td>967</td>\n",
       "      <td>14M</td>\n",
       "      <td>500,000+</td>\n",
       "      <td>Free</td>\n",
       "      <td>0</td>\n",
       "      <td>Everyone</td>\n",
       "      <td>Art &amp; Design;Pretend Play</td>\n",
       "      <td>January 15, 2018</td>\n",
       "      <td>2.0.0</td>\n",
       "      <td>4.0.3 and up</td>\n",
       "    </tr>\n",
       "    <tr>\n",
       "      <th>2</th>\n",
       "      <td>U Launcher Lite – FREE Live Cool Themes, Hide ...</td>\n",
       "      <td>ART_AND_DESIGN</td>\n",
       "      <td>4.7</td>\n",
       "      <td>87510</td>\n",
       "      <td>8.7M</td>\n",
       "      <td>5,000,000+</td>\n",
       "      <td>Free</td>\n",
       "      <td>0</td>\n",
       "      <td>Everyone</td>\n",
       "      <td>Art &amp; Design</td>\n",
       "      <td>August 1, 2018</td>\n",
       "      <td>1.2.4</td>\n",
       "      <td>4.0.3 and up</td>\n",
       "    </tr>\n",
       "  </tbody>\n",
       "</table>\n",
       "</div>"
      ],
      "text/plain": [
       "                                                 App        Category  Rating  \\\n",
       "0     Photo Editor & Candy Camera & Grid & ScrapBook  ART_AND_DESIGN     4.1   \n",
       "1                                Coloring book moana  ART_AND_DESIGN     3.9   \n",
       "2  U Launcher Lite – FREE Live Cool Themes, Hide ...  ART_AND_DESIGN     4.7   \n",
       "\n",
       "  Reviews  Size    Installs  Type Price Content Rating  \\\n",
       "0     159   19M     10,000+  Free     0       Everyone   \n",
       "1     967   14M    500,000+  Free     0       Everyone   \n",
       "2   87510  8.7M  5,000,000+  Free     0       Everyone   \n",
       "\n",
       "                      Genres      Last Updated Current Ver   Android Ver  \n",
       "0               Art & Design   January 7, 2018       1.0.0  4.0.3 and up  \n",
       "1  Art & Design;Pretend Play  January 15, 2018       2.0.0  4.0.3 and up  \n",
       "2               Art & Design    August 1, 2018       1.2.4  4.0.3 and up  "
      ]
     },
     "execution_count": 2,
     "metadata": {},
     "output_type": "execute_result"
    }
   ],
   "source": [
    "data = pd.read_csv('../data/googleplaystore.csv')\n",
    "data.head(3)"
   ]
  },
  {
   "cell_type": "code",
   "execution_count": 3,
   "id": "c97a605c",
   "metadata": {},
   "outputs": [
    {
     "name": "stdout",
     "output_type": "stream",
     "text": [
      "<class 'pandas.core.frame.DataFrame'>\n",
      "RangeIndex: 10841 entries, 0 to 10840\n",
      "Data columns (total 13 columns):\n",
      " #   Column          Non-Null Count  Dtype  \n",
      "---  ------          --------------  -----  \n",
      " 0   App             10841 non-null  object \n",
      " 1   Category        10841 non-null  object \n",
      " 2   Rating          9367 non-null   float64\n",
      " 3   Reviews         10841 non-null  object \n",
      " 4   Size            10841 non-null  object \n",
      " 5   Installs        10841 non-null  object \n",
      " 6   Type            10840 non-null  object \n",
      " 7   Price           10841 non-null  object \n",
      " 8   Content Rating  10840 non-null  object \n",
      " 9   Genres          10841 non-null  object \n",
      " 10  Last Updated    10841 non-null  object \n",
      " 11  Current Ver     10833 non-null  object \n",
      " 12  Android Ver     10838 non-null  object \n",
      "dtypes: float64(1), object(12)\n",
      "memory usage: 1.1+ MB\n"
     ]
    }
   ],
   "source": [
    "data.info()"
   ]
  },
  {
   "cell_type": "markdown",
   "id": "6d06e37a",
   "metadata": {},
   "source": [
    "#### Rename the column names"
   ]
  },
  {
   "cell_type": "code",
   "execution_count": 4,
   "id": "98411bfa",
   "metadata": {},
   "outputs": [
    {
     "data": {
      "text/plain": [
       "Index(['app', 'category', 'rating', 'reviews', 'size', 'installs', 'type',\n",
       "       'price', 'content_rating', 'genres', 'last_updated', 'current_ver',\n",
       "       'android_ver'],\n",
       "      dtype='object')"
      ]
     },
     "execution_count": 4,
     "metadata": {},
     "output_type": "execute_result"
    }
   ],
   "source": [
    "data.columns = [col.replace(' ', '_').lower() for col in data.columns]\n",
    "data.columns"
   ]
  },
  {
   "cell_type": "markdown",
   "id": "5aa54dff",
   "metadata": {},
   "source": [
    "#### Fix numerical data"
   ]
  },
  {
   "cell_type": "code",
   "execution_count": 5,
   "id": "a9c84397",
   "metadata": {},
   "outputs": [
    {
     "data": {
      "text/plain": [
       "app                object\n",
       "category           object\n",
       "rating            float64\n",
       "reviews           float64\n",
       "size              float64\n",
       "installs           object\n",
       "type               object\n",
       "price             float64\n",
       "content_rating     object\n",
       "genres             object\n",
       "last_updated       object\n",
       "current_ver        object\n",
       "android_ver        object\n",
       "dtype: object"
      ]
     },
     "execution_count": 5,
     "metadata": {},
     "output_type": "execute_result"
    }
   ],
   "source": [
    "'''\n",
    "First you need check values with:\n",
    "\n",
    "for i in data[col_name].unique():\n",
    "    print(i)\n",
    "\n",
    "'''\n",
    "\n",
    "# reviews\n",
    "data['reviews'] = pd.to_numeric(data['reviews'], errors='coerce')\n",
    "\n",
    "# size\n",
    "def mb_to_kb(size):\n",
    "    if size.endswith('M'):\n",
    "        return float(size.replace('M', '')) * 1000\n",
    "    elif size.endswith('k'):\n",
    "        return float(size.replace('k', ''))\n",
    "    elif size.endswith('+'):\n",
    "        return float(size.replace('+', '').replace(',', ''))\n",
    "    else:\n",
    "        return np.nan\n",
    "\n",
    "data['size'] = data['size'].apply(mb_to_kb)\n",
    "\n",
    "# price\n",
    "data['price'] = data['price'].apply(lambda x: x.replace('$', ''))\n",
    "data['price'] = pd.to_numeric(data['price'], errors='coerce')\n",
    "\n",
    "data.dtypes"
   ]
  },
  {
   "cell_type": "code",
   "execution_count": 6,
   "id": "1c637c72",
   "metadata": {},
   "outputs": [
    {
     "data": {
      "text/html": [
       "<div>\n",
       "<style scoped>\n",
       "    .dataframe tbody tr th:only-of-type {\n",
       "        vertical-align: middle;\n",
       "    }\n",
       "\n",
       "    .dataframe tbody tr th {\n",
       "        vertical-align: top;\n",
       "    }\n",
       "\n",
       "    .dataframe thead th {\n",
       "        text-align: right;\n",
       "    }\n",
       "</style>\n",
       "<table border=\"1\" class=\"dataframe\">\n",
       "  <thead>\n",
       "    <tr style=\"text-align: right;\">\n",
       "      <th></th>\n",
       "      <th>rating</th>\n",
       "      <th>reviews</th>\n",
       "      <th>size</th>\n",
       "      <th>price</th>\n",
       "    </tr>\n",
       "  </thead>\n",
       "  <tbody>\n",
       "    <tr>\n",
       "      <th>count</th>\n",
       "      <td>9367.000000</td>\n",
       "      <td>1.084000e+04</td>\n",
       "      <td>9146.00000</td>\n",
       "      <td>10840.000000</td>\n",
       "    </tr>\n",
       "    <tr>\n",
       "      <th>mean</th>\n",
       "      <td>4.193338</td>\n",
       "      <td>4.441529e+05</td>\n",
       "      <td>21514.28630</td>\n",
       "      <td>1.027368</td>\n",
       "    </tr>\n",
       "    <tr>\n",
       "      <th>std</th>\n",
       "      <td>0.537431</td>\n",
       "      <td>2.927761e+06</td>\n",
       "      <td>22588.53162</td>\n",
       "      <td>15.949703</td>\n",
       "    </tr>\n",
       "    <tr>\n",
       "      <th>min</th>\n",
       "      <td>1.000000</td>\n",
       "      <td>0.000000e+00</td>\n",
       "      <td>8.50000</td>\n",
       "      <td>0.000000</td>\n",
       "    </tr>\n",
       "    <tr>\n",
       "      <th>25%</th>\n",
       "      <td>4.000000</td>\n",
       "      <td>3.800000e+01</td>\n",
       "      <td>4900.00000</td>\n",
       "      <td>0.000000</td>\n",
       "    </tr>\n",
       "    <tr>\n",
       "      <th>50%</th>\n",
       "      <td>4.300000</td>\n",
       "      <td>2.094000e+03</td>\n",
       "      <td>13000.00000</td>\n",
       "      <td>0.000000</td>\n",
       "    </tr>\n",
       "    <tr>\n",
       "      <th>75%</th>\n",
       "      <td>4.500000</td>\n",
       "      <td>5.477550e+04</td>\n",
       "      <td>30000.00000</td>\n",
       "      <td>0.000000</td>\n",
       "    </tr>\n",
       "    <tr>\n",
       "      <th>max</th>\n",
       "      <td>19.000000</td>\n",
       "      <td>7.815831e+07</td>\n",
       "      <td>100000.00000</td>\n",
       "      <td>400.000000</td>\n",
       "    </tr>\n",
       "  </tbody>\n",
       "</table>\n",
       "</div>"
      ],
      "text/plain": [
       "            rating       reviews          size         price\n",
       "count  9367.000000  1.084000e+04    9146.00000  10840.000000\n",
       "mean      4.193338  4.441529e+05   21514.28630      1.027368\n",
       "std       0.537431  2.927761e+06   22588.53162     15.949703\n",
       "min       1.000000  0.000000e+00       8.50000      0.000000\n",
       "25%       4.000000  3.800000e+01    4900.00000      0.000000\n",
       "50%       4.300000  2.094000e+03   13000.00000      0.000000\n",
       "75%       4.500000  5.477550e+04   30000.00000      0.000000\n",
       "max      19.000000  7.815831e+07  100000.00000    400.000000"
      ]
     },
     "execution_count": 6,
     "metadata": {},
     "output_type": "execute_result"
    }
   ],
   "source": [
    "data.describe() # max(rating) = 19 ?"
   ]
  },
  {
   "cell_type": "code",
   "execution_count": 7,
   "id": "94e14361",
   "metadata": {},
   "outputs": [
    {
     "data": {
      "text/html": [
       "<div>\n",
       "<style scoped>\n",
       "    .dataframe tbody tr th:only-of-type {\n",
       "        vertical-align: middle;\n",
       "    }\n",
       "\n",
       "    .dataframe tbody tr th {\n",
       "        vertical-align: top;\n",
       "    }\n",
       "\n",
       "    .dataframe thead th {\n",
       "        text-align: right;\n",
       "    }\n",
       "</style>\n",
       "<table border=\"1\" class=\"dataframe\">\n",
       "  <thead>\n",
       "    <tr style=\"text-align: right;\">\n",
       "      <th></th>\n",
       "      <th>app</th>\n",
       "      <th>category</th>\n",
       "      <th>rating</th>\n",
       "      <th>reviews</th>\n",
       "      <th>size</th>\n",
       "      <th>installs</th>\n",
       "      <th>type</th>\n",
       "      <th>price</th>\n",
       "      <th>content_rating</th>\n",
       "      <th>genres</th>\n",
       "      <th>last_updated</th>\n",
       "      <th>current_ver</th>\n",
       "      <th>android_ver</th>\n",
       "    </tr>\n",
       "  </thead>\n",
       "  <tbody>\n",
       "    <tr>\n",
       "      <th>10472</th>\n",
       "      <td>Life Made WI-Fi Touchscreen Photo Frame</td>\n",
       "      <td>1.9</td>\n",
       "      <td>19.0</td>\n",
       "      <td>NaN</td>\n",
       "      <td>1000.0</td>\n",
       "      <td>Free</td>\n",
       "      <td>0</td>\n",
       "      <td>NaN</td>\n",
       "      <td>NaN</td>\n",
       "      <td>February 11, 2018</td>\n",
       "      <td>1.0.19</td>\n",
       "      <td>4.0 and up</td>\n",
       "      <td>NaN</td>\n",
       "    </tr>\n",
       "  </tbody>\n",
       "</table>\n",
       "</div>"
      ],
      "text/plain": [
       "                                           app category  rating  reviews  \\\n",
       "10472  Life Made WI-Fi Touchscreen Photo Frame      1.9    19.0      NaN   \n",
       "\n",
       "         size installs type  price content_rating             genres  \\\n",
       "10472  1000.0     Free    0    NaN            NaN  February 11, 2018   \n",
       "\n",
       "      last_updated current_ver android_ver  \n",
       "10472       1.0.19  4.0 and up         NaN  "
      ]
     },
     "execution_count": 7,
     "metadata": {},
     "output_type": "execute_result"
    }
   ],
   "source": [
    "data[data['rating']>5]"
   ]
  },
  {
   "cell_type": "code",
   "execution_count": 8,
   "id": "33405f43",
   "metadata": {},
   "outputs": [],
   "source": [
    "data = data[data['rating'] <= 5]"
   ]
  },
  {
   "cell_type": "code",
   "execution_count": 9,
   "id": "931d5217",
   "metadata": {},
   "outputs": [
    {
     "data": {
      "text/html": [
       "<div>\n",
       "<style scoped>\n",
       "    .dataframe tbody tr th:only-of-type {\n",
       "        vertical-align: middle;\n",
       "    }\n",
       "\n",
       "    .dataframe tbody tr th {\n",
       "        vertical-align: top;\n",
       "    }\n",
       "\n",
       "    .dataframe thead th {\n",
       "        text-align: right;\n",
       "    }\n",
       "</style>\n",
       "<table border=\"1\" class=\"dataframe\">\n",
       "  <thead>\n",
       "    <tr style=\"text-align: right;\">\n",
       "      <th></th>\n",
       "      <th>rating</th>\n",
       "      <th>reviews</th>\n",
       "      <th>size</th>\n",
       "      <th>price</th>\n",
       "    </tr>\n",
       "  </thead>\n",
       "  <tbody>\n",
       "    <tr>\n",
       "      <th>count</th>\n",
       "      <td>9366.000000</td>\n",
       "      <td>9.366000e+03</td>\n",
       "      <td>7729.000000</td>\n",
       "      <td>9366.000000</td>\n",
       "    </tr>\n",
       "    <tr>\n",
       "      <th>mean</th>\n",
       "      <td>4.191757</td>\n",
       "      <td>5.140498e+05</td>\n",
       "      <td>22957.606870</td>\n",
       "      <td>0.960928</td>\n",
       "    </tr>\n",
       "    <tr>\n",
       "      <th>std</th>\n",
       "      <td>0.515219</td>\n",
       "      <td>3.144042e+06</td>\n",
       "      <td>23445.491095</td>\n",
       "      <td>15.816585</td>\n",
       "    </tr>\n",
       "    <tr>\n",
       "      <th>min</th>\n",
       "      <td>1.000000</td>\n",
       "      <td>1.000000e+00</td>\n",
       "      <td>8.500000</td>\n",
       "      <td>0.000000</td>\n",
       "    </tr>\n",
       "    <tr>\n",
       "      <th>25%</th>\n",
       "      <td>4.000000</td>\n",
       "      <td>1.862500e+02</td>\n",
       "      <td>5300.000000</td>\n",
       "      <td>0.000000</td>\n",
       "    </tr>\n",
       "    <tr>\n",
       "      <th>50%</th>\n",
       "      <td>4.300000</td>\n",
       "      <td>5.930500e+03</td>\n",
       "      <td>14000.000000</td>\n",
       "      <td>0.000000</td>\n",
       "    </tr>\n",
       "    <tr>\n",
       "      <th>75%</th>\n",
       "      <td>4.500000</td>\n",
       "      <td>8.153275e+04</td>\n",
       "      <td>33000.000000</td>\n",
       "      <td>0.000000</td>\n",
       "    </tr>\n",
       "    <tr>\n",
       "      <th>max</th>\n",
       "      <td>5.000000</td>\n",
       "      <td>7.815831e+07</td>\n",
       "      <td>100000.000000</td>\n",
       "      <td>400.000000</td>\n",
       "    </tr>\n",
       "  </tbody>\n",
       "</table>\n",
       "</div>"
      ],
      "text/plain": [
       "            rating       reviews           size        price\n",
       "count  9366.000000  9.366000e+03    7729.000000  9366.000000\n",
       "mean      4.191757  5.140498e+05   22957.606870     0.960928\n",
       "std       0.515219  3.144042e+06   23445.491095    15.816585\n",
       "min       1.000000  1.000000e+00       8.500000     0.000000\n",
       "25%       4.000000  1.862500e+02    5300.000000     0.000000\n",
       "50%       4.300000  5.930500e+03   14000.000000     0.000000\n",
       "75%       4.500000  8.153275e+04   33000.000000     0.000000\n",
       "max       5.000000  7.815831e+07  100000.000000   400.000000"
      ]
     },
     "execution_count": 9,
     "metadata": {},
     "output_type": "execute_result"
    }
   ],
   "source": [
    "data.describe() # Now max(rating) = 5 OK"
   ]
  },
  {
   "cell_type": "markdown",
   "id": "c7ad125e",
   "metadata": {},
   "source": [
    "#### Fix categorical data"
   ]
  },
  {
   "cell_type": "code",
   "execution_count": 10,
   "id": "8bbd542c",
   "metadata": {},
   "outputs": [
    {
     "data": {
      "text/html": [
       "<div>\n",
       "<style scoped>\n",
       "    .dataframe tbody tr th:only-of-type {\n",
       "        vertical-align: middle;\n",
       "    }\n",
       "\n",
       "    .dataframe tbody tr th {\n",
       "        vertical-align: top;\n",
       "    }\n",
       "\n",
       "    .dataframe thead th {\n",
       "        text-align: right;\n",
       "    }\n",
       "</style>\n",
       "<table border=\"1\" class=\"dataframe\">\n",
       "  <thead>\n",
       "    <tr style=\"text-align: right;\">\n",
       "      <th></th>\n",
       "      <th>app</th>\n",
       "      <th>category</th>\n",
       "      <th>rating</th>\n",
       "      <th>reviews</th>\n",
       "      <th>size</th>\n",
       "      <th>installs</th>\n",
       "      <th>type</th>\n",
       "      <th>price</th>\n",
       "      <th>content_rating</th>\n",
       "      <th>genres</th>\n",
       "      <th>last_updated</th>\n",
       "      <th>current_ver</th>\n",
       "      <th>android_ver</th>\n",
       "    </tr>\n",
       "  </thead>\n",
       "  <tbody>\n",
       "    <tr>\n",
       "      <th>0</th>\n",
       "      <td>Photo Editor &amp; Candy Camera &amp; Grid &amp; ScrapBook</td>\n",
       "      <td>ART_AND_DESIGN</td>\n",
       "      <td>4.1</td>\n",
       "      <td>159.0</td>\n",
       "      <td>19000.0</td>\n",
       "      <td>10,000+</td>\n",
       "      <td>Free</td>\n",
       "      <td>0.0</td>\n",
       "      <td>Everyone</td>\n",
       "      <td>Art &amp; Design</td>\n",
       "      <td>January 7, 2018</td>\n",
       "      <td>1.0.0</td>\n",
       "      <td>4.0.3 and up</td>\n",
       "    </tr>\n",
       "    <tr>\n",
       "      <th>1</th>\n",
       "      <td>Coloring book moana</td>\n",
       "      <td>ART_AND_DESIGN</td>\n",
       "      <td>3.9</td>\n",
       "      <td>967.0</td>\n",
       "      <td>14000.0</td>\n",
       "      <td>500,000+</td>\n",
       "      <td>Free</td>\n",
       "      <td>0.0</td>\n",
       "      <td>Everyone</td>\n",
       "      <td>Art &amp; Design;Pretend Play</td>\n",
       "      <td>January 15, 2018</td>\n",
       "      <td>2.0.0</td>\n",
       "      <td>4.0.3 and up</td>\n",
       "    </tr>\n",
       "    <tr>\n",
       "      <th>2</th>\n",
       "      <td>U Launcher Lite – FREE Live Cool Themes, Hide ...</td>\n",
       "      <td>ART_AND_DESIGN</td>\n",
       "      <td>4.7</td>\n",
       "      <td>87510.0</td>\n",
       "      <td>8700.0</td>\n",
       "      <td>5,000,000+</td>\n",
       "      <td>Free</td>\n",
       "      <td>0.0</td>\n",
       "      <td>Everyone</td>\n",
       "      <td>Art &amp; Design</td>\n",
       "      <td>August 1, 2018</td>\n",
       "      <td>1.2.4</td>\n",
       "      <td>4.0.3 and up</td>\n",
       "    </tr>\n",
       "    <tr>\n",
       "      <th>3</th>\n",
       "      <td>Sketch - Draw &amp; Paint</td>\n",
       "      <td>ART_AND_DESIGN</td>\n",
       "      <td>4.5</td>\n",
       "      <td>215644.0</td>\n",
       "      <td>25000.0</td>\n",
       "      <td>50,000,000+</td>\n",
       "      <td>Free</td>\n",
       "      <td>0.0</td>\n",
       "      <td>Teen</td>\n",
       "      <td>Art &amp; Design</td>\n",
       "      <td>June 8, 2018</td>\n",
       "      <td>Varies with device</td>\n",
       "      <td>4.2 and up</td>\n",
       "    </tr>\n",
       "    <tr>\n",
       "      <th>4</th>\n",
       "      <td>Pixel Draw - Number Art Coloring Book</td>\n",
       "      <td>ART_AND_DESIGN</td>\n",
       "      <td>4.3</td>\n",
       "      <td>967.0</td>\n",
       "      <td>2800.0</td>\n",
       "      <td>100,000+</td>\n",
       "      <td>Free</td>\n",
       "      <td>0.0</td>\n",
       "      <td>Everyone</td>\n",
       "      <td>Art &amp; Design;Creativity</td>\n",
       "      <td>June 20, 2018</td>\n",
       "      <td>1.1</td>\n",
       "      <td>4.4 and up</td>\n",
       "    </tr>\n",
       "  </tbody>\n",
       "</table>\n",
       "</div>"
      ],
      "text/plain": [
       "                                                 app        category  rating  \\\n",
       "0     Photo Editor & Candy Camera & Grid & ScrapBook  ART_AND_DESIGN     4.1   \n",
       "1                                Coloring book moana  ART_AND_DESIGN     3.9   \n",
       "2  U Launcher Lite – FREE Live Cool Themes, Hide ...  ART_AND_DESIGN     4.7   \n",
       "3                              Sketch - Draw & Paint  ART_AND_DESIGN     4.5   \n",
       "4              Pixel Draw - Number Art Coloring Book  ART_AND_DESIGN     4.3   \n",
       "\n",
       "    reviews     size     installs  type  price content_rating  \\\n",
       "0     159.0  19000.0      10,000+  Free    0.0       Everyone   \n",
       "1     967.0  14000.0     500,000+  Free    0.0       Everyone   \n",
       "2   87510.0   8700.0   5,000,000+  Free    0.0       Everyone   \n",
       "3  215644.0  25000.0  50,000,000+  Free    0.0           Teen   \n",
       "4     967.0   2800.0     100,000+  Free    0.0       Everyone   \n",
       "\n",
       "                      genres      last_updated         current_ver  \\\n",
       "0               Art & Design   January 7, 2018               1.0.0   \n",
       "1  Art & Design;Pretend Play  January 15, 2018               2.0.0   \n",
       "2               Art & Design    August 1, 2018               1.2.4   \n",
       "3               Art & Design      June 8, 2018  Varies with device   \n",
       "4    Art & Design;Creativity     June 20, 2018                 1.1   \n",
       "\n",
       "    android_ver  \n",
       "0  4.0.3 and up  \n",
       "1  4.0.3 and up  \n",
       "2  4.0.3 and up  \n",
       "3    4.2 and up  \n",
       "4    4.4 and up  "
      ]
     },
     "execution_count": 10,
     "metadata": {},
     "output_type": "execute_result"
    }
   ],
   "source": [
    "data.head()"
   ]
  },
  {
   "cell_type": "code",
   "execution_count": 11,
   "id": "56d3b2e8",
   "metadata": {},
   "outputs": [],
   "source": [
    "'''\n",
    "First you need check values with:\n",
    "\n",
    "data[col_name].value_counts()\n",
    "\n",
    "'''\n",
    "\n",
    "data['app'] = data['app'].apply(lambda x: x.lower())\n",
    "data['category'] = data['category'].apply(lambda x: x.lower())\n",
    "data['type'] = data['type'].apply(lambda x: x.lower())\n",
    "data['content_rating'] = data['content_rating'].apply(lambda x: x.lower())\n",
    "\n",
    "to_drop = ['genres', 'last_updated', 'current_ver']\n",
    "data.drop(columns=to_drop, axis=1, inplace=True)"
   ]
  },
  {
   "cell_type": "markdown",
   "id": "def1e6f8",
   "metadata": {},
   "source": [
    "#### Add new column"
   ]
  },
  {
   "cell_type": "code",
   "execution_count": 12,
   "id": "80955f43",
   "metadata": {},
   "outputs": [
    {
     "data": {
      "text/html": [
       "<div>\n",
       "<style scoped>\n",
       "    .dataframe tbody tr th:only-of-type {\n",
       "        vertical-align: middle;\n",
       "    }\n",
       "\n",
       "    .dataframe tbody tr th {\n",
       "        vertical-align: top;\n",
       "    }\n",
       "\n",
       "    .dataframe thead th {\n",
       "        text-align: right;\n",
       "    }\n",
       "</style>\n",
       "<table border=\"1\" class=\"dataframe\">\n",
       "  <thead>\n",
       "    <tr style=\"text-align: right;\">\n",
       "      <th></th>\n",
       "      <th>app</th>\n",
       "      <th>category</th>\n",
       "      <th>rating</th>\n",
       "      <th>reviews</th>\n",
       "      <th>size</th>\n",
       "      <th>installs</th>\n",
       "      <th>type</th>\n",
       "      <th>price</th>\n",
       "      <th>content_rating</th>\n",
       "      <th>working_on_ver_4</th>\n",
       "    </tr>\n",
       "  </thead>\n",
       "  <tbody>\n",
       "    <tr>\n",
       "      <th>0</th>\n",
       "      <td>photo editor &amp; candy camera &amp; grid &amp; scrapbook</td>\n",
       "      <td>art_and_design</td>\n",
       "      <td>4.1</td>\n",
       "      <td>159.0</td>\n",
       "      <td>19000.0</td>\n",
       "      <td>10,000+</td>\n",
       "      <td>free</td>\n",
       "      <td>0.0</td>\n",
       "      <td>everyone</td>\n",
       "      <td>yes</td>\n",
       "    </tr>\n",
       "    <tr>\n",
       "      <th>1</th>\n",
       "      <td>coloring book moana</td>\n",
       "      <td>art_and_design</td>\n",
       "      <td>3.9</td>\n",
       "      <td>967.0</td>\n",
       "      <td>14000.0</td>\n",
       "      <td>500,000+</td>\n",
       "      <td>free</td>\n",
       "      <td>0.0</td>\n",
       "      <td>everyone</td>\n",
       "      <td>yes</td>\n",
       "    </tr>\n",
       "    <tr>\n",
       "      <th>2</th>\n",
       "      <td>u launcher lite – free live cool themes, hide ...</td>\n",
       "      <td>art_and_design</td>\n",
       "      <td>4.7</td>\n",
       "      <td>87510.0</td>\n",
       "      <td>8700.0</td>\n",
       "      <td>5,000,000+</td>\n",
       "      <td>free</td>\n",
       "      <td>0.0</td>\n",
       "      <td>everyone</td>\n",
       "      <td>yes</td>\n",
       "    </tr>\n",
       "    <tr>\n",
       "      <th>3</th>\n",
       "      <td>sketch - draw &amp; paint</td>\n",
       "      <td>art_and_design</td>\n",
       "      <td>4.5</td>\n",
       "      <td>215644.0</td>\n",
       "      <td>25000.0</td>\n",
       "      <td>50,000,000+</td>\n",
       "      <td>free</td>\n",
       "      <td>0.0</td>\n",
       "      <td>teen</td>\n",
       "      <td>yes</td>\n",
       "    </tr>\n",
       "    <tr>\n",
       "      <th>4</th>\n",
       "      <td>pixel draw - number art coloring book</td>\n",
       "      <td>art_and_design</td>\n",
       "      <td>4.3</td>\n",
       "      <td>967.0</td>\n",
       "      <td>2800.0</td>\n",
       "      <td>100,000+</td>\n",
       "      <td>free</td>\n",
       "      <td>0.0</td>\n",
       "      <td>everyone</td>\n",
       "      <td>yes</td>\n",
       "    </tr>\n",
       "  </tbody>\n",
       "</table>\n",
       "</div>"
      ],
      "text/plain": [
       "                                                 app        category  rating  \\\n",
       "0     photo editor & candy camera & grid & scrapbook  art_and_design     4.1   \n",
       "1                                coloring book moana  art_and_design     3.9   \n",
       "2  u launcher lite – free live cool themes, hide ...  art_and_design     4.7   \n",
       "3                              sketch - draw & paint  art_and_design     4.5   \n",
       "4              pixel draw - number art coloring book  art_and_design     4.3   \n",
       "\n",
       "    reviews     size     installs  type  price content_rating working_on_ver_4  \n",
       "0     159.0  19000.0      10,000+  free    0.0       everyone              yes  \n",
       "1     967.0  14000.0     500,000+  free    0.0       everyone              yes  \n",
       "2   87510.0   8700.0   5,000,000+  free    0.0       everyone              yes  \n",
       "3  215644.0  25000.0  50,000,000+  free    0.0           teen              yes  \n",
       "4     967.0   2800.0     100,000+  free    0.0       everyone              yes  "
      ]
     },
     "execution_count": 12,
     "metadata": {},
     "output_type": "execute_result"
    }
   ],
   "source": [
    "data['working_on_ver_4'] = data['android_ver'].apply(lambda v: 'yes' if str(v).startswith('4') else 'no')\n",
    "data.drop(columns='android_ver', axis=1, inplace=True)\n",
    "data.head()"
   ]
  },
  {
   "cell_type": "markdown",
   "id": "a3f17cbc",
   "metadata": {},
   "source": [
    "#### Check missing values"
   ]
  },
  {
   "cell_type": "code",
   "execution_count": 13,
   "id": "675664bb",
   "metadata": {},
   "outputs": [
    {
     "data": {
      "text/plain": [
       "app                    0\n",
       "category               0\n",
       "rating                 0\n",
       "reviews                0\n",
       "size                1637\n",
       "installs               0\n",
       "type                   0\n",
       "price                  0\n",
       "content_rating         0\n",
       "working_on_ver_4       0\n",
       "dtype: int64"
      ]
     },
     "execution_count": 13,
     "metadata": {},
     "output_type": "execute_result"
    }
   ],
   "source": [
    "data.isna().sum()"
   ]
  },
  {
   "cell_type": "code",
   "execution_count": 14,
   "id": "f8c910df",
   "metadata": {},
   "outputs": [
    {
     "data": {
      "text/plain": [
       "app                  0.000000\n",
       "category             0.000000\n",
       "rating               0.000000\n",
       "reviews              0.000000\n",
       "size                17.478112\n",
       "installs             0.000000\n",
       "type                 0.000000\n",
       "price                0.000000\n",
       "content_rating       0.000000\n",
       "working_on_ver_4     0.000000\n",
       "dtype: float64"
      ]
     },
     "execution_count": 14,
     "metadata": {},
     "output_type": "execute_result"
    }
   ],
   "source": [
    "(data.isna().sum() / data.shape[0]) * 100 # With %"
   ]
  },
  {
   "cell_type": "code",
   "execution_count": 15,
   "id": "0803a7c0",
   "metadata": {},
   "outputs": [],
   "source": [
    "from sklearn.impute import KNNImputer\n",
    "\n",
    "imputer = KNNImputer()\n",
    "data['size'] = imputer.fit_transform(data[['size']])"
   ]
  },
  {
   "cell_type": "code",
   "execution_count": 16,
   "id": "3a1734ac",
   "metadata": {},
   "outputs": [
    {
     "data": {
      "text/plain": [
       "app                 0.0\n",
       "category            0.0\n",
       "rating              0.0\n",
       "reviews             0.0\n",
       "size                0.0\n",
       "installs            0.0\n",
       "type                0.0\n",
       "price               0.0\n",
       "content_rating      0.0\n",
       "working_on_ver_4    0.0\n",
       "dtype: float64"
      ]
     },
     "execution_count": 16,
     "metadata": {},
     "output_type": "execute_result"
    }
   ],
   "source": [
    "(data.isna().sum() / data.shape[0]) * 100 # With %"
   ]
  },
  {
   "cell_type": "markdown",
   "id": "15721c7a",
   "metadata": {},
   "source": [
    "#### Check outliers"
   ]
  },
  {
   "cell_type": "code",
   "execution_count": 17,
   "id": "496651bc",
   "metadata": {},
   "outputs": [
    {
     "data": {
      "image/png": "[encoded data removed]",
      "text/plain": [
       "<Figure size 432x288 with 1 Axes>"
      ]
     },
     "metadata": {
      "needs_background": "light"
     },
     "output_type": "display_data"
    }
   ],
   "source": [
    "sns.boxplot(x='rating', data=data);"
   ]
  },
  {
   "cell_type": "code",
   "execution_count": 18,
   "id": "2e5b651f",
   "metadata": {
    "scrolled": true
   },
   "outputs": [
    {
     "data": {
      "text/plain": [
       "[15, 87, 209, 311, 312, 477, 492, 514, 518, 520]"
      ]
     },
     "execution_count": 18,
     "metadata": {},
     "output_type": "execute_result"
    }
   ],
   "source": [
    "from datasist.structdata import detect_outliers\n",
    "\n",
    "idx = detect_outliers(data, 0, ['rating', 'reviews', 'size', 'price'])\n",
    "idx[:10]"
   ]
  },
  {
   "cell_type": "code",
   "execution_count": 19,
   "id": "bfb4c5ce",
   "metadata": {},
   "outputs": [],
   "source": [
    "outliers = data.loc[idx]\n",
    "clean = data.drop(idx, axis=0)"
   ]
  },
  {
   "cell_type": "markdown",
   "id": "1d5bbb17",
   "metadata": {},
   "source": [
    "#### What is the most expensive app on the store?"
   ]
  },
  {
   "cell_type": "code",
   "execution_count": 20,
   "id": "c52e6a67",
   "metadata": {},
   "outputs": [
    {
     "data": {
      "text/html": [
       "<div>\n",
       "<style scoped>\n",
       "    .dataframe tbody tr th:only-of-type {\n",
       "        vertical-align: middle;\n",
       "    }\n",
       "\n",
       "    .dataframe tbody tr th {\n",
       "        vertical-align: top;\n",
       "    }\n",
       "\n",
       "    .dataframe thead th {\n",
       "        text-align: right;\n",
       "    }\n",
       "</style>\n",
       "<table border=\"1\" class=\"dataframe\">\n",
       "  <thead>\n",
       "    <tr style=\"text-align: right;\">\n",
       "      <th></th>\n",
       "      <th>app</th>\n",
       "      <th>category</th>\n",
       "      <th>rating</th>\n",
       "      <th>reviews</th>\n",
       "      <th>size</th>\n",
       "      <th>installs</th>\n",
       "      <th>type</th>\n",
       "      <th>price</th>\n",
       "      <th>content_rating</th>\n",
       "      <th>working_on_ver_4</th>\n",
       "    </tr>\n",
       "  </thead>\n",
       "  <tbody>\n",
       "    <tr>\n",
       "      <th>4367</th>\n",
       "      <td>i'm rich - trump edition</td>\n",
       "      <td>lifestyle</td>\n",
       "      <td>3.6</td>\n",
       "      <td>275.0</td>\n",
       "      <td>7300.0</td>\n",
       "      <td>10,000+</td>\n",
       "      <td>paid</td>\n",
       "      <td>400.0</td>\n",
       "      <td>everyone</td>\n",
       "      <td>yes</td>\n",
       "    </tr>\n",
       "  </tbody>\n",
       "</table>\n",
       "</div>"
      ],
      "text/plain": [
       "                           app   category  rating  reviews    size installs  \\\n",
       "4367  i'm rich - trump edition  lifestyle     3.6    275.0  7300.0  10,000+   \n",
       "\n",
       "      type  price content_rating working_on_ver_4  \n",
       "4367  paid  400.0       everyone              yes  "
      ]
     },
     "execution_count": 20,
     "metadata": {},
     "output_type": "execute_result"
    }
   ],
   "source": [
    "data[data['price'] == data['price'].max()]"
   ]
  },
  {
   "cell_type": "markdown",
   "id": "ee07da13",
   "metadata": {},
   "source": [
    "#### Which genre has more apps?"
   ]
  },
  {
   "cell_type": "code",
   "execution_count": 21,
   "id": "e0e93511",
   "metadata": {},
   "outputs": [
    {
     "data": {
      "image/png": "[encoded data removed]",
      "text/plain": [
       "<Figure size 432x288 with 1 Axes>"
      ]
     },
     "metadata": {
      "needs_background": "light"
     },
     "output_type": "display_data"
    }
   ],
   "source": [
    "data['category'].value_counts()[:2].plot(kind='barh'); # family"
   ]
  },
  {
   "cell_type": "markdown",
   "id": "9fa014c8",
   "metadata": {},
   "source": [
    "#### What is the average size of the free & paid apps?"
   ]
  },
  {
   "cell_type": "code",
   "execution_count": 22,
   "id": "041738a6",
   "metadata": {},
   "outputs": [
    {
     "data": {
      "text/plain": [
       "type\n",
       "free    23112.734451\n",
       "paid    20867.100877\n",
       "Name: size, dtype: float64"
      ]
     },
     "execution_count": 22,
     "metadata": {},
     "output_type": "execute_result"
    }
   ],
   "source": [
    "data.groupby('type').mean()['size']"
   ]
  },
  {
   "cell_type": "markdown",
   "id": "e07ded33",
   "metadata": {},
   "source": [
    "#### What is the 5 top expensive apps that has rate of 5?"
   ]
  },
  {
   "cell_type": "code",
   "execution_count": 23,
   "id": "49738a88",
   "metadata": {},
   "outputs": [
    {
     "data": {
      "text/html": [
       "<div>\n",
       "<style scoped>\n",
       "    .dataframe tbody tr th:only-of-type {\n",
       "        vertical-align: middle;\n",
       "    }\n",
       "\n",
       "    .dataframe tbody tr th {\n",
       "        vertical-align: top;\n",
       "    }\n",
       "\n",
       "    .dataframe thead th {\n",
       "        text-align: right;\n",
       "    }\n",
       "</style>\n",
       "<table border=\"1\" class=\"dataframe\">\n",
       "  <thead>\n",
       "    <tr style=\"text-align: right;\">\n",
       "      <th></th>\n",
       "      <th>app</th>\n",
       "      <th>category</th>\n",
       "      <th>rating</th>\n",
       "      <th>reviews</th>\n",
       "      <th>size</th>\n",
       "      <th>installs</th>\n",
       "      <th>type</th>\n",
       "      <th>price</th>\n",
       "      <th>content_rating</th>\n",
       "      <th>working_on_ver_4</th>\n",
       "    </tr>\n",
       "  </thead>\n",
       "  <tbody>\n",
       "    <tr>\n",
       "      <th>5489</th>\n",
       "      <td>ap art history flashcards</td>\n",
       "      <td>family</td>\n",
       "      <td>5.0</td>\n",
       "      <td>1.0</td>\n",
       "      <td>96000.0</td>\n",
       "      <td>10+</td>\n",
       "      <td>paid</td>\n",
       "      <td>29.99</td>\n",
       "      <td>mature 17+</td>\n",
       "      <td>yes</td>\n",
       "    </tr>\n",
       "    <tr>\n",
       "      <th>7477</th>\n",
       "      <td>usmle step 2 ck flashcards</td>\n",
       "      <td>family</td>\n",
       "      <td>5.0</td>\n",
       "      <td>1.0</td>\n",
       "      <td>40000.0</td>\n",
       "      <td>10+</td>\n",
       "      <td>paid</td>\n",
       "      <td>19.99</td>\n",
       "      <td>everyone</td>\n",
       "      <td>no</td>\n",
       "    </tr>\n",
       "    <tr>\n",
       "      <th>5246</th>\n",
       "      <td>hey aj! it's bedtime!</td>\n",
       "      <td>family</td>\n",
       "      <td>5.0</td>\n",
       "      <td>1.0</td>\n",
       "      <td>63000.0</td>\n",
       "      <td>10+</td>\n",
       "      <td>paid</td>\n",
       "      <td>4.99</td>\n",
       "      <td>everyone</td>\n",
       "      <td>no</td>\n",
       "    </tr>\n",
       "    <tr>\n",
       "      <th>7204</th>\n",
       "      <td>ti-84 ce graphing calculator manual ti 84</td>\n",
       "      <td>family</td>\n",
       "      <td>5.0</td>\n",
       "      <td>1.0</td>\n",
       "      <td>27000.0</td>\n",
       "      <td>100+</td>\n",
       "      <td>paid</td>\n",
       "      <td>4.99</td>\n",
       "      <td>everyone</td>\n",
       "      <td>yes</td>\n",
       "    </tr>\n",
       "    <tr>\n",
       "      <th>5482</th>\n",
       "      <td>mestudying: ap english lit</td>\n",
       "      <td>family</td>\n",
       "      <td>5.0</td>\n",
       "      <td>1.0</td>\n",
       "      <td>655.0</td>\n",
       "      <td>10+</td>\n",
       "      <td>paid</td>\n",
       "      <td>4.99</td>\n",
       "      <td>everyone</td>\n",
       "      <td>no</td>\n",
       "    </tr>\n",
       "  </tbody>\n",
       "</table>\n",
       "</div>"
      ],
      "text/plain": [
       "                                            app category  rating  reviews  \\\n",
       "5489                  ap art history flashcards   family     5.0      1.0   \n",
       "7477                 usmle step 2 ck flashcards   family     5.0      1.0   \n",
       "5246                      hey aj! it's bedtime!   family     5.0      1.0   \n",
       "7204  ti-84 ce graphing calculator manual ti 84   family     5.0      1.0   \n",
       "5482                 mestudying: ap english lit   family     5.0      1.0   \n",
       "\n",
       "         size installs  type  price content_rating working_on_ver_4  \n",
       "5489  96000.0      10+  paid  29.99     mature 17+              yes  \n",
       "7477  40000.0      10+  paid  19.99       everyone               no  \n",
       "5246  63000.0      10+  paid   4.99       everyone               no  \n",
       "7204  27000.0     100+  paid   4.99       everyone              yes  \n",
       "5482    655.0      10+  paid   4.99       everyone               no  "
      ]
     },
     "execution_count": 23,
     "metadata": {},
     "output_type": "execute_result"
    }
   ],
   "source": [
    "data[data['rating'] == 5].sort_values(by='price', ascending=False)[:5]"
   ]
  },
  {
   "cell_type": "markdown",
   "id": "9c3d465b",
   "metadata": {},
   "source": [
    "#### How many apps that has more than 50K reviews?"
   ]
  },
  {
   "cell_type": "code",
   "execution_count": 24,
   "id": "4c753535",
   "metadata": {},
   "outputs": [
    {
     "data": {
      "text/plain": [
       "2782"
      ]
     },
     "execution_count": 24,
     "metadata": {},
     "output_type": "execute_result"
    }
   ],
   "source": [
    "data[data['reviews'] > 50000].shape[0]"
   ]
  },
  {
   "cell_type": "markdown",
   "id": "e12534c7",
   "metadata": {},
   "source": [
    "#### What is the average price of the apps for each genre with each installs numbers?"
   ]
  },
  {
   "cell_type": "code",
   "execution_count": 25,
   "id": "0e3da8a2",
   "metadata": {},
   "outputs": [
    {
     "data": {
      "text/html": [
       "<div>\n",
       "<style scoped>\n",
       "    .dataframe tbody tr th:only-of-type {\n",
       "        vertical-align: middle;\n",
       "    }\n",
       "\n",
       "    .dataframe tbody tr th {\n",
       "        vertical-align: top;\n",
       "    }\n",
       "\n",
       "    .dataframe thead th {\n",
       "        text-align: right;\n",
       "    }\n",
       "</style>\n",
       "<table border=\"1\" class=\"dataframe\">\n",
       "  <thead>\n",
       "    <tr style=\"text-align: right;\">\n",
       "      <th></th>\n",
       "      <th></th>\n",
       "      <th>rating</th>\n",
       "      <th>reviews</th>\n",
       "      <th>size</th>\n",
       "      <th>price</th>\n",
       "    </tr>\n",
       "    <tr>\n",
       "      <th>category</th>\n",
       "      <th>installs</th>\n",
       "      <th></th>\n",
       "      <th></th>\n",
       "      <th></th>\n",
       "      <th></th>\n",
       "    </tr>\n",
       "  </thead>\n",
       "  <tbody>\n",
       "    <tr>\n",
       "      <th rowspan=\"5\" valign=\"top\">art_and_design</th>\n",
       "      <th>1,000+</th>\n",
       "      <td>4.366667</td>\n",
       "      <td>6.000000e+01</td>\n",
       "      <td>3866.666667</td>\n",
       "      <td>0.663333</td>\n",
       "    </tr>\n",
       "    <tr>\n",
       "      <th>1,000,000+</th>\n",
       "      <td>4.325000</td>\n",
       "      <td>1.831850e+04</td>\n",
       "      <td>25500.000000</td>\n",
       "      <td>0.000000</td>\n",
       "    </tr>\n",
       "    <tr>\n",
       "      <th>10,000+</th>\n",
       "      <td>4.445455</td>\n",
       "      <td>2.397273e+02</td>\n",
       "      <td>9836.363636</td>\n",
       "      <td>0.180909</td>\n",
       "    </tr>\n",
       "    <tr>\n",
       "      <th>10,000,000+</th>\n",
       "      <td>4.460000</td>\n",
       "      <td>2.068434e+05</td>\n",
       "      <td>24183.042748</td>\n",
       "      <td>0.000000</td>\n",
       "    </tr>\n",
       "    <tr>\n",
       "      <th>100+</th>\n",
       "      <td>5.000000</td>\n",
       "      <td>1.000000e+00</td>\n",
       "      <td>2900.000000</td>\n",
       "      <td>0.000000</td>\n",
       "    </tr>\n",
       "    <tr>\n",
       "      <th>...</th>\n",
       "      <th>...</th>\n",
       "      <td>...</td>\n",
       "      <td>...</td>\n",
       "      <td>...</td>\n",
       "      <td>...</td>\n",
       "    </tr>\n",
       "    <tr>\n",
       "      <th rowspan=\"5\" valign=\"top\">weather</th>\n",
       "      <th>5,000,000+</th>\n",
       "      <td>4.112500</td>\n",
       "      <td>7.579175e+04</td>\n",
       "      <td>25366.303435</td>\n",
       "      <td>0.000000</td>\n",
       "    </tr>\n",
       "    <tr>\n",
       "      <th>50,000+</th>\n",
       "      <td>4.500000</td>\n",
       "      <td>3.252000e+03</td>\n",
       "      <td>3800.000000</td>\n",
       "      <td>0.000000</td>\n",
       "    </tr>\n",
       "    <tr>\n",
       "      <th>50,000,000+</th>\n",
       "      <td>4.420000</td>\n",
       "      <td>1.891730e+06</td>\n",
       "      <td>20566.085496</td>\n",
       "      <td>0.000000</td>\n",
       "    </tr>\n",
       "    <tr>\n",
       "      <th>500+</th>\n",
       "      <td>3.800000</td>\n",
       "      <td>1.100000e+01</td>\n",
       "      <td>2900.000000</td>\n",
       "      <td>1.990000</td>\n",
       "    </tr>\n",
       "    <tr>\n",
       "      <th>500,000+</th>\n",
       "      <td>4.428571</td>\n",
       "      <td>2.278357e+04</td>\n",
       "      <td>11651.086696</td>\n",
       "      <td>0.855714</td>\n",
       "    </tr>\n",
       "  </tbody>\n",
       "</table>\n",
       "<p>448 rows × 4 columns</p>\n",
       "</div>"
      ],
      "text/plain": [
       "                              rating       reviews          size     price\n",
       "category       installs                                                   \n",
       "art_and_design 1,000+       4.366667  6.000000e+01   3866.666667  0.663333\n",
       "               1,000,000+   4.325000  1.831850e+04  25500.000000  0.000000\n",
       "               10,000+      4.445455  2.397273e+02   9836.363636  0.180909\n",
       "               10,000,000+  4.460000  2.068434e+05  24183.042748  0.000000\n",
       "               100+         5.000000  1.000000e+00   2900.000000  0.000000\n",
       "...                              ...           ...           ...       ...\n",
       "weather        5,000,000+   4.112500  7.579175e+04  25366.303435  0.000000\n",
       "               50,000+      4.500000  3.252000e+03   3800.000000  0.000000\n",
       "               50,000,000+  4.420000  1.891730e+06  20566.085496  0.000000\n",
       "               500+         3.800000  1.100000e+01   2900.000000  1.990000\n",
       "               500,000+     4.428571  2.278357e+04  11651.086696  0.855714\n",
       "\n",
       "[448 rows x 4 columns]"
      ]
     },
     "execution_count": 25,
     "metadata": {},
     "output_type": "execute_result"
    }
   ],
   "source": [
    "data.groupby(['category', 'installs']).mean() # Access with .loc['art_and_design']"
   ]
  },
  {
   "cell_type": "markdown",
   "id": "a7900591",
   "metadata": {},
   "source": [
    "#### How many apps have rating > 4.7 ans what is thier avg. price?"
   ]
  },
  {
   "cell_type": "code",
   "execution_count": 26,
   "id": "49c1f7d7",
   "metadata": {},
   "outputs": [
    {
     "data": {
      "text/plain": [
       "0.5018487394957988"
      ]
     },
     "execution_count": 26,
     "metadata": {},
     "output_type": "execute_result"
    }
   ],
   "source": [
    "data[data['rating'] > 4.7].mean()['price']"
   ]
  },
  {
   "cell_type": "markdown",
   "id": "be49fe27",
   "metadata": {},
   "source": [
    "#### How much google earned from the 5,000,000+ installed apps?"
   ]
  },
  {
   "cell_type": "code",
   "execution_count": 27,
   "id": "d899b0a0",
   "metadata": {},
   "outputs": [
    {
     "data": {
      "text/plain": [
       "0.0"
      ]
     },
     "execution_count": 27,
     "metadata": {},
     "output_type": "execute_result"
    }
   ],
   "source": [
    "data[data['installs'] == '5,000,000+']['price'].sum()"
   ]
  },
  {
   "cell_type": "markdown",
   "id": "9ebf36af",
   "metadata": {},
   "source": [
    "#### What is the max and min size for free & paid apps?"
   ]
  },
  {
   "cell_type": "code",
   "execution_count": 28,
   "id": "24cafbc2",
   "metadata": {},
   "outputs": [
    {
     "data": {
      "text/html": [
       "<div>\n",
       "<style scoped>\n",
       "    .dataframe tbody tr th:only-of-type {\n",
       "        vertical-align: middle;\n",
       "    }\n",
       "\n",
       "    .dataframe tbody tr th {\n",
       "        vertical-align: top;\n",
       "    }\n",
       "\n",
       "    .dataframe thead th {\n",
       "        text-align: right;\n",
       "    }\n",
       "</style>\n",
       "<table border=\"1\" class=\"dataframe\">\n",
       "  <thead>\n",
       "    <tr style=\"text-align: right;\">\n",
       "      <th></th>\n",
       "      <th>count</th>\n",
       "      <th>mean</th>\n",
       "      <th>std</th>\n",
       "      <th>min</th>\n",
       "      <th>25%</th>\n",
       "      <th>50%</th>\n",
       "      <th>75%</th>\n",
       "      <th>max</th>\n",
       "    </tr>\n",
       "    <tr>\n",
       "      <th>type</th>\n",
       "      <th></th>\n",
       "      <th></th>\n",
       "      <th></th>\n",
       "      <th></th>\n",
       "      <th></th>\n",
       "      <th></th>\n",
       "      <th></th>\n",
       "      <th></th>\n",
       "    </tr>\n",
       "  </thead>\n",
       "  <tbody>\n",
       "    <tr>\n",
       "      <th>free</th>\n",
       "      <td>8719.0</td>\n",
       "      <td>23112.734451</td>\n",
       "      <td>21279.437059</td>\n",
       "      <td>8.5</td>\n",
       "      <td>6900.0</td>\n",
       "      <td>21000.0</td>\n",
       "      <td>27000.0</td>\n",
       "      <td>100000.0</td>\n",
       "    </tr>\n",
       "    <tr>\n",
       "      <th>paid</th>\n",
       "      <td>647.0</td>\n",
       "      <td>20867.100877</td>\n",
       "      <td>21454.062286</td>\n",
       "      <td>14.0</td>\n",
       "      <td>3800.0</td>\n",
       "      <td>16000.0</td>\n",
       "      <td>27000.0</td>\n",
       "      <td>100000.0</td>\n",
       "    </tr>\n",
       "  </tbody>\n",
       "</table>\n",
       "</div>"
      ],
      "text/plain": [
       "       count          mean           std   min     25%      50%      75%  \\\n",
       "type                                                                       \n",
       "free  8719.0  23112.734451  21279.437059   8.5  6900.0  21000.0  27000.0   \n",
       "paid   647.0  20867.100877  21454.062286  14.0  3800.0  16000.0  27000.0   \n",
       "\n",
       "           max  \n",
       "type            \n",
       "free  100000.0  \n",
       "paid  100000.0  "
      ]
     },
     "execution_count": 28,
     "metadata": {},
     "output_type": "execute_result"
    }
   ],
   "source": [
    "data.groupby('type').describe()['size']"
   ]
  },
  {
   "cell_type": "markdown",
   "id": "59f68e2b",
   "metadata": {},
   "source": [
    "#### Is there correlation between rating, reviews, size with the price of the app?"
   ]
  },
  {
   "cell_type": "code",
   "execution_count": 29,
   "id": "19715c51",
   "metadata": {},
   "outputs": [
    {
     "data": {
      "text/plain": [
       "rating    -0.021903\n",
       "reviews   -0.009820\n",
       "size      -0.026224\n",
       "price      1.000000\n",
       "Name: price, dtype: float64"
      ]
     },
     "execution_count": 29,
     "metadata": {},
     "output_type": "execute_result"
    }
   ],
   "source": [
    "data.corr()['price']"
   ]
  },
  {
   "cell_type": "code",
   "execution_count": 30,
   "id": "0bc89c0e",
   "metadata": {},
   "outputs": [
    {
     "data": {
      "image/png": "[encoded data removed]",
      "text/plain": [
       "<Figure size 432x288 with 2 Axes>"
      ]
     },
     "metadata": {
      "needs_background": "light"
     },
     "output_type": "display_data"
    }
   ],
   "source": [
    "sns.heatmap(data.corr(), annot=True);"
   ]
  },
  {
   "cell_type": "markdown",
   "id": "0ba4cdbe",
   "metadata": {},
   "source": [
    "#### How many apps for each type for each content rating?"
   ]
  },
  {
   "cell_type": "code",
   "execution_count": 31,
   "id": "a3de20fd",
   "metadata": {},
   "outputs": [
    {
     "data": {
      "text/plain": [
       "type  content_rating \n",
       "free  adults only 18+       3\n",
       "      everyone           6868\n",
       "      everyone 10+        364\n",
       "      mature 17+          444\n",
       "      teen               1039\n",
       "      unrated               1\n",
       "paid  everyone            552\n",
       "      everyone 10+         33\n",
       "      mature 17+           17\n",
       "      teen                 45\n",
       "Name: app, dtype: int64"
      ]
     },
     "execution_count": 31,
     "metadata": {},
     "output_type": "execute_result"
    }
   ],
   "source": [
    "data.groupby(['type', 'content_rating']).count()['app']"
   ]
  },
  {
   "cell_type": "markdown",
   "id": "594494b0",
   "metadata": {},
   "source": [
    "#### How many apps that can workin android version 4?"
   ]
  },
  {
   "cell_type": "code",
   "execution_count": 32,
   "id": "d076f439",
   "metadata": {},
   "outputs": [
    {
     "data": {
      "text/plain": [
       "5859"
      ]
     },
     "execution_count": 32,
     "metadata": {},
     "output_type": "execute_result"
    }
   ],
   "source": [
    "data[data['working_on_ver_4'] == 'yes'].shape[0]"
   ]
  },
  {
   "cell_type": "code",
   "execution_count": 33,
   "id": "b54bf795",
   "metadata": {},
   "outputs": [
    {
     "data": {
      "image/png": "[encoded data removed]",
      "text/plain": [
       "<Figure size 432x288 with 1 Axes>"
      ]
     },
     "metadata": {
      "needs_background": "light"
     },
     "output_type": "display_data"
    }
   ],
   "source": [
    "data['working_on_ver_4'].value_counts().plot(kind='barh');"
   ]
  }
 ],
 "metadata": {
  "kernelspec": {
   "display_name": "Python 3",
   "language": "python",
   "name": "python3"
  },
  "language_info": {
   "codemirror_mode": {
    "name": "ipython",
    "version": 3
   },
   "file_extension": ".py",
   "mimetype": "text/x-python",
   "name": "python",
   "nbconvert_exporter": "python",
   "pygments_lexer": "ipython3",
   "version": "3.8.8"
  }
 },
 "nbformat": 4,
 "nbformat_minor": 5
}
